{
 "cells": [
  {
   "cell_type": "code",
   "execution_count": 1,
   "id": "869a5736",
   "metadata": {},
   "outputs": [
    {
     "data": {
      "text/plain": [
       "\u001b[36mr\u001b[39m: \u001b[32mscala\u001b[39m.\u001b[32mutil\u001b[39m.\u001b[32mRandom\u001b[39m = scala.util.Random@30fccd06"
      ]
     },
     "execution_count": 1,
     "metadata": {},
     "output_type": "execute_result"
    }
   ],
   "source": [
    "val r = new scala.util.Random(100)"
   ]
  },
  {
   "cell_type": "code",
   "execution_count": 17,
   "id": "0b89ad7c",
   "metadata": {},
   "outputs": [
    {
     "data": {
      "text/html": [
       "<div class=\"jp-RenderedText\">\n",
       "<pre><code><span style=\"color: rgb(0, 187, 187)\"><span class=\"ansi-cyan-fg\">res16_0</span></span>: <span style=\"color: rgb(0, 187, 0)\"><span class=\"ansi-green-fg\">Char</span></span> = <span style=\"color: rgb(0, 187, 0)\"><span class=\"ansi-green-fg\">'&gt;'</span></span>\n",
       "<span style=\"color: rgb(0, 187, 187)\"><span class=\"ansi-cyan-fg\">range</span></span>: <span style=\"color: rgb(0, 187, 0)\"><span class=\"ansi-green-fg\">Range</span></span>.<span style=\"color: rgb(0, 187, 0)\"><span class=\"ansi-green-fg\">Inclusive</span></span> = <span style=\"color: yellow\"><span class=\"ansi-yellow-fg\">Range</span></span>(<span style=\"color: rgb(0, 187, 0)\"><span class=\"ansi-green-fg\">0</span></span>, <span style=\"color: rgb(0, 187, 0)\"><span class=\"ansi-green-fg\">1</span></span>, <span style=\"color: rgb(0, 187, 0)\"><span class=\"ansi-green-fg\">2</span></span>)</code></pre>\n",
       "</div>"
      ],
      "text/plain": [
       "\u001b[36mres16_0\u001b[39m: \u001b[32mChar\u001b[39m = \u001b[32m'>'\u001b[39m\n",
       "\u001b[36mrange\u001b[39m: \u001b[32mRange\u001b[39m.\u001b[32mInclusive\u001b[39m = \u001b[33mRange\u001b[39m(\u001b[32m0\u001b[39m, \u001b[32m1\u001b[39m, \u001b[32m2\u001b[39m)"
      ]
     },
     "metadata": {},
     "output_type": "display_data"
    }
   ],
   "source": [
    "r.nextPrintableChar\n",
    "var range = 0 to r.nextInt(10)"
   ]
  },
  {
   "cell_type": "code",
   "execution_count": 18,
   "id": "cd81b73f",
   "metadata": {},
   "outputs": [
    {
     "data": {
      "text/plain": [
       "\u001b[36mres17\u001b[39m: \u001b[32mIndexedSeq\u001b[39m[\u001b[32mFloat\u001b[39m] = \u001b[33mVector\u001b[39m(\n",
       "  \u001b[32m0.0F\u001b[39m,\n",
       "  \u001b[32m0.34778744F\u001b[39m,\n",
       "  \u001b[32m0.61803615F\u001b[39m,\n",
       "  \u001b[32m1.4084196F\u001b[39m,\n",
       "  \u001b[32m0.050821543F\u001b[39m,\n",
       "  \u001b[32m2.8469481F\u001b[39m,\n",
       "  \u001b[32m3.6201963F\u001b[39m,\n",
       "  \u001b[32m4.512851F\u001b[39m\n",
       ")"
      ]
     },
     "execution_count": 18,
     "metadata": {},
     "output_type": "execute_result"
    }
   ],
   "source": [
    "for (i <- 0 to r.nextInt(10)) yield (i * r.nextFloat)"
   ]
  },
  {
   "cell_type": "code",
   "execution_count": 19,
   "id": "8ee3b63b",
   "metadata": {},
   "outputs": [
    {
     "data": {
      "text/html": [
       "<div class=\"jp-RenderedText\">\n",
       "<pre><code><span style=\"color: rgb(0, 187, 187)\"><span class=\"ansi-cyan-fg\">b</span></span>: <span style=\"color: rgb(0, 187, 0)\"><span class=\"ansi-green-fg\">BigInt</span></span> = 12345</code></pre>\n",
       "</div>"
      ],
      "text/plain": [
       "\u001b[36mb\u001b[39m: \u001b[32mBigInt\u001b[39m = 12345"
      ]
     },
     "metadata": {},
     "output_type": "display_data"
    }
   ],
   "source": [
    "var b = BigInt(12345)"
   ]
  },
  {
   "cell_type": "code",
   "execution_count": 20,
   "id": "57759fcc",
   "metadata": {},
   "outputs": [
    {
     "data": {
      "text/plain": [
       "\u001b[36mres19\u001b[39m: \u001b[32mFloat\u001b[39m = \u001b[32m12345.0F\u001b[39m"
      ]
     },
     "execution_count": 20,
     "metadata": {},
     "output_type": "execute_result"
    }
   ],
   "source": [
    "b."
   ]
  },
  {
   "cell_type": "code",
   "execution_count": null,
   "id": "a2a6468e",
   "metadata": {},
   "outputs": [],
   "source": []
  }
 ],
 "metadata": {
  "kernelspec": {
   "display_name": "Scala",
   "language": "scala",
   "name": "scala"
  },
  "language_info": {
   "codemirror_mode": "text/x-scala",
   "file_extension": ".scala",
   "mimetype": "text/x-scala",
   "name": "scala",
   "nbconvert_exporter": "script",
   "version": "2.13.2"
  }
 },
 "nbformat": 4,
 "nbformat_minor": 5
}
