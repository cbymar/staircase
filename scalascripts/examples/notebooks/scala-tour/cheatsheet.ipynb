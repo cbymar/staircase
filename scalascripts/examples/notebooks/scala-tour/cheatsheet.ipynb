{
 "cells": [
  {
   "cell_type": "code",
   "execution_count": null,
   "id": "cc821c0d",
   "metadata": {},
   "outputs": [],
   "source": [
    "// https://docs.scala-lang.org/cheatsheets/index.html\n"
   ]
  },
  {
   "cell_type": "code",
   "execution_count": null,
   "id": "c9a03511",
   "metadata": {},
   "outputs": [],
   "source": [
    "def f(x: Int) = {x * x}"
   ]
  },
  {
   "cell_type": "code",
   "execution_count": null,
   "id": "7d8f050f",
   "metadata": {},
   "outputs": [],
   "source": [
    "type R = Double\n",
    "(x: R) => x * x"
   ]
  },
  {
   "cell_type": "code",
   "execution_count": null,
   "id": "ba46d78e",
   "metadata": {},
   "outputs": [],
   "source": [
    "(1 to 1000000).map(x => scala.math.pow(x,-2)).reduceLeft(_ + _)"
   ]
  },
  {
   "cell_type": "code",
   "execution_count": null,
   "id": "99333ee1",
   "metadata": {},
   "outputs": [],
   "source": [
    "(1 to 5).map { x => \n",
    "    val y = x * 2\n",
    "//     println(y)\n",
    "    y\n",
    "}"
   ]
  },
  {
   "cell_type": "code",
   "execution_count": null,
   "id": "b477ae80",
   "metadata": {},
   "outputs": [],
   "source": [
    "(1 to 40).filter {\n",
    "    _ % 2 == 0\n",
    "} map {\n",
    "    _ * 2\n",
    "}"
   ]
  },
  {
   "cell_type": "code",
   "execution_count": 21,
   "id": "e4fdcf16",
   "metadata": {},
   "outputs": [
    {
     "data": {
      "text/plain": [
       "defined \u001b[32mfunction\u001b[39m \u001b[36mcompose\u001b[39m\n",
       "\u001b[36mf\u001b[39m: \u001b[32mR\u001b[39m => \u001b[32mR\u001b[39m = ammonite.$sess.cmd20$Helper$$Lambda$2437/0x0000000801621840@47f8802d"
      ]
     },
     "execution_count": 21,
     "metadata": {},
     "output_type": "execute_result"
    }
   ],
   "source": [
    "def compose(g: R => R, h: R => R) = \n",
    "    (x: R) => g(h(x))\n",
    "\n",
    "val f = compose(_ * 2, _ -1)"
   ]
  },
  {
   "cell_type": "code",
   "execution_count": 21,
   "id": "67c659d5",
   "metadata": {},
   "outputs": [
    {
     "name": "stderr",
     "output_type": "stream",
     "text": [
      "cmd21.sc:1: type mismatch;\n",
      " found   : ammonite.$sess.cmd20.wrapper.cmd2.R\n",
      "    (which expands to)  Double\n",
      " required: Int\n",
      "val a: Int = f(5)\n",
      "              ^Compilation Failed"
     ]
    },
    {
     "ename": "",
     "evalue": "",
     "output_type": "error",
     "traceback": [
      "Compilation Failed"
     ]
    }
   ],
   "source": [
    "val a: Int = f(5)"
   ]
  },
  {
   "cell_type": "code",
   "execution_count": null,
   "id": "3e32352b",
   "metadata": {},
   "outputs": [],
   "source": []
  }
 ],
 "metadata": {
  "kernelspec": {
   "display_name": "Scala",
   "language": "scala",
   "name": "scala"
  },
  "language_info": {
   "codemirror_mode": "text/x-scala",
   "file_extension": ".scala",
   "mimetype": "text/x-scala",
   "name": "scala",
   "nbconvert_exporter": "script",
   "version": "2.13.2"
  }
 },
 "nbformat": 4,
 "nbformat_minor": 5
}
