{
 "cells": [
  {
   "cell_type": "code",
   "execution_count": 1,
   "id": "0466d69d",
   "metadata": {},
   "outputs": [
    {
     "data": {
      "text/plain": [
       "\u001b[36mr\u001b[39m: \u001b[32mscala\u001b[39m.\u001b[32mutil\u001b[39m.\u001b[32mRandom\u001b[39m = scala.util.Random@30fccd06"
      ]
     },
     "execution_count": 1,
     "metadata": {},
     "output_type": "execute_result"
    }
   ],
   "source": [
    "val r = new scala.util.Random(100)"
   ]
  },
  {
   "cell_type": "code",
   "execution_count": 17,
   "id": "100ab568",
   "metadata": {},
   "outputs": [
    {
     "data": {
      "text/html": [
       "<div class=\"jp-RenderedText\">\n",
       "<pre><code><span style=\"color: rgb(0, 187, 187)\"><span class=\"ansi-cyan-fg\">res16_0</span></span>: <span style=\"color: rgb(0, 187, 0)\"><span class=\"ansi-green-fg\">Char</span></span> = <span style=\"color: rgb(0, 187, 0)\"><span class=\"ansi-green-fg\">'&gt;'</span></span>\n",
       "<span style=\"color: rgb(0, 187, 187)\"><span class=\"ansi-cyan-fg\">range</span></span>: <span style=\"color: rgb(0, 187, 0)\"><span class=\"ansi-green-fg\">Range</span></span>.<span style=\"color: rgb(0, 187, 0)\"><span class=\"ansi-green-fg\">Inclusive</span></span> = <span style=\"color: yellow\"><span class=\"ansi-yellow-fg\">Range</span></span>(<span style=\"color: rgb(0, 187, 0)\"><span class=\"ansi-green-fg\">0</span></span>, <span style=\"color: rgb(0, 187, 0)\"><span class=\"ansi-green-fg\">1</span></span>, <span style=\"color: rgb(0, 187, 0)\"><span class=\"ansi-green-fg\">2</span></span>)</code></pre>\n",
       "</div>"
      ],
      "text/plain": [
       "\u001b[36mres16_0\u001b[39m: \u001b[32mChar\u001b[39m = \u001b[32m'>'\u001b[39m\n",
       "\u001b[36mrange\u001b[39m: \u001b[32mRange\u001b[39m.\u001b[32mInclusive\u001b[39m = \u001b[33mRange\u001b[39m(\u001b[32m0\u001b[39m, \u001b[32m1\u001b[39m, \u001b[32m2\u001b[39m)"
      ]
     },
     "metadata": {},
     "output_type": "display_data"
    }
   ],
   "source": [
    "r.nextPrintableChar\n",
    "var range = 0 to r.nextInt(10)"
   ]
  },
  {
   "cell_type": "code",
   "execution_count": 18,
   "id": "3aaea033",
   "metadata": {},
   "outputs": [
    {
     "data": {
      "text/plain": [
       "\u001b[36mres17\u001b[39m: \u001b[32mIndexedSeq\u001b[39m[\u001b[32mFloat\u001b[39m] = \u001b[33mVector\u001b[39m(\n",
       "  \u001b[32m0.0F\u001b[39m,\n",
       "  \u001b[32m0.34778744F\u001b[39m,\n",
       "  \u001b[32m0.61803615F\u001b[39m,\n",
       "  \u001b[32m1.4084196F\u001b[39m,\n",
       "  \u001b[32m0.050821543F\u001b[39m,\n",
       "  \u001b[32m2.8469481F\u001b[39m,\n",
       "  \u001b[32m3.6201963F\u001b[39m,\n",
       "  \u001b[32m4.512851F\u001b[39m\n",
       ")"
      ]
     },
     "execution_count": 18,
     "metadata": {},
     "output_type": "execute_result"
    }
   ],
   "source": [
    "for (i <- 0 to r.nextInt(10)) yield (i * r.nextFloat)"
   ]
  },
  {
   "cell_type": "code",
   "execution_count": 19,
   "id": "f32773cc",
   "metadata": {},
   "outputs": [
    {
     "data": {
      "text/html": [
       "<div class=\"jp-RenderedText\">\n",
       "<pre><code><span style=\"color: rgb(0, 187, 187)\"><span class=\"ansi-cyan-fg\">b</span></span>: <span style=\"color: rgb(0, 187, 0)\"><span class=\"ansi-green-fg\">BigInt</span></span> = 12345</code></pre>\n",
       "</div>"
      ],
      "text/plain": [
       "\u001b[36mb\u001b[39m: \u001b[32mBigInt\u001b[39m = 12345"
      ]
     },
     "metadata": {},
     "output_type": "display_data"
    }
   ],
   "source": [
    "var b = BigInt(12345)"
   ]
  },
  {
   "cell_type": "code",
   "execution_count": 21,
   "id": "f1c9a74c",
   "metadata": {},
   "outputs": [
    {
     "data": {
      "text/plain": [
       "\u001b[36mres20\u001b[39m: \u001b[32mBoolean\u001b[39m = true"
      ]
     },
     "execution_count": 21,
     "metadata": {},
     "output_type": "execute_result"
    }
   ],
   "source": [
    "b.isValidLong"
   ]
  },
  {
   "cell_type": "code",
   "execution_count": 23,
   "id": "097f4184",
   "metadata": {},
   "outputs": [
    {
     "data": {
      "text/plain": [
       "\u001b[36mr\u001b[39m: \u001b[32mRange\u001b[39m = \u001b[33mRange\u001b[39m(\u001b[32m0\u001b[39m, \u001b[32m4\u001b[39m, \u001b[32m8\u001b[39m, \u001b[32m12\u001b[39m, \u001b[32m16\u001b[39m, \u001b[32m20\u001b[39m, \u001b[32m24\u001b[39m, \u001b[32m28\u001b[39m, \u001b[32m32\u001b[39m, \u001b[32m36\u001b[39m, \u001b[32m40\u001b[39m)"
      ]
     },
     "execution_count": 23,
     "metadata": {},
     "output_type": "execute_result"
    }
   ],
   "source": [
    "val r = 0 to 40 by 4 "
   ]
  },
  {
   "cell_type": "code",
   "execution_count": 24,
   "id": "96d97b43",
   "metadata": {},
   "outputs": [
    {
     "name": "stdout",
     "output_type": "stream",
     "text": [
      "1\n",
      "2\n",
      "3\n",
      "4\n"
     ]
    }
   ],
   "source": [
    "for (i <- 1 until 5) println(i) // until is exclusive"
   ]
  },
  {
   "cell_type": "code",
   "execution_count": 25,
   "id": "4123852d",
   "metadata": {},
   "outputs": [
    {
     "data": {
      "text/plain": [
       "\u001b[36mx\u001b[39m: \u001b[32mArray\u001b[39m[\u001b[32mInt\u001b[39m] = \u001b[33mArray\u001b[39m(\u001b[32m1\u001b[39m, \u001b[32m2\u001b[39m, \u001b[32m3\u001b[39m, \u001b[32m4\u001b[39m, \u001b[32m5\u001b[39m, \u001b[32m6\u001b[39m, \u001b[32m7\u001b[39m, \u001b[32m8\u001b[39m, \u001b[32m9\u001b[39m, \u001b[32m10\u001b[39m)"
      ]
     },
     "execution_count": 25,
     "metadata": {},
     "output_type": "execute_result"
    }
   ],
   "source": [
    "val x = (1 to 10).toArray"
   ]
  },
  {
   "cell_type": "code",
   "execution_count": 26,
   "id": "7fb36416",
   "metadata": {},
   "outputs": [
    {
     "data": {
      "text/plain": [
       "\u001b[36my\u001b[39m: \u001b[32mArray\u001b[39m[\u001b[32mInt\u001b[39m] = \u001b[33mArray\u001b[39m(\u001b[32m1\u001b[39m, \u001b[32m2\u001b[39m, \u001b[32m3\u001b[39m, \u001b[32m4\u001b[39m, \u001b[32m5\u001b[39m, \u001b[32m6\u001b[39m, \u001b[32m7\u001b[39m, \u001b[32m8\u001b[39m, \u001b[32m9\u001b[39m, \u001b[32m10\u001b[39m)"
      ]
     },
     "execution_count": 26,
     "metadata": {},
     "output_type": "execute_result"
    }
   ],
   "source": [
    "val y = (1 to 10).toArray"
   ]
  },
  {
   "cell_type": "code",
   "execution_count": 29,
   "id": "3d06c188",
   "metadata": {},
   "outputs": [
    {
     "data": {
      "text/plain": [
       "\u001b[36mres28\u001b[39m: \u001b[32mIndexedSeq\u001b[39m[\u001b[32mDouble\u001b[39m] = \u001b[33mVector\u001b[39m(\u001b[32m1.0\u001b[39m, \u001b[32m4.0\u001b[39m, \u001b[32m9.0\u001b[39m, \u001b[32m16.0\u001b[39m, \u001b[32m25.0\u001b[39m)"
      ]
     },
     "execution_count": 29,
     "metadata": {},
     "output_type": "execute_result"
    }
   ],
   "source": [
    "for (i <- 1 to 5) yield scala.math.pow(i,2)"
   ]
  },
  {
   "cell_type": "code",
   "execution_count": null,
   "id": "3ab4fdc0",
   "metadata": {},
   "outputs": [],
   "source": []
  },
  {
   "cell_type": "code",
   "execution_count": null,
   "id": "294cda43",
   "metadata": {},
   "outputs": [],
   "source": []
  },
  {
   "cell_type": "code",
   "execution_count": null,
   "id": "0376ab99",
   "metadata": {},
   "outputs": [],
   "source": []
  },
  {
   "cell_type": "code",
   "execution_count": null,
   "id": "8668825b",
   "metadata": {},
   "outputs": [],
   "source": []
  },
  {
   "cell_type": "code",
   "execution_count": null,
   "id": "1f411dd5",
   "metadata": {},
   "outputs": [],
   "source": []
  }
 ],
 "metadata": {
  "kernelspec": {
   "display_name": "Scala",
   "language": "scala",
   "name": "scala"
  },
  "language_info": {
   "codemirror_mode": "text/x-scala",
   "file_extension": ".scala",
   "mimetype": "text/x-scala",
   "name": "scala",
   "nbconvert_exporter": "script",
   "version": "2.13.2"
  }
 },
 "nbformat": 4,
 "nbformat_minor": 5
}
