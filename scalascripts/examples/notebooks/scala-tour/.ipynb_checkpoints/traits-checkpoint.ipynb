{
 "cells": [
  {
   "cell_type": "markdown",
   "metadata": {},
   "source": [
    "<p style=\"float: left;\"><a href=\"classes.ipynb\" target=\"_blank\">Previous</a></p>\n",
    "<p style=\"float: right;\"><a href=\"tuples.ipynb\" target=\"_blank\">Next</a></p>\n",
    "<p style=\"text-align:center;\">Tour of Scala</p>\n",
    "<div style=\"clear: both;\"></div>\n",
    "\n",
    "# Traits\n",
    "\n",
    "Traits are used to share interfaces and fields between classes. They are similar to Java 8's interfaces. Classes and objects can extend traits but traits cannot be instantiated and therefore have no parameters.\n",
    "\n",
    "## Defining a trait\n",
    "A minimal trait is simply the keyword `trait` and an identifier:"
   ]
  },
  {
   "cell_type": "code",
   "execution_count": 1,
   "metadata": {
    "attributes": {
     "classes": [
      "tut"
     ],
     "id": ""
    }
   },
   "outputs": [
    {
     "data": {
      "text/plain": [
       "defined \u001b[32mtrait\u001b[39m \u001b[36mHairColor\u001b[39m"
      ]
     },
     "execution_count": 1,
     "metadata": {},
     "output_type": "execute_result"
    }
   ],
   "source": [
    "trait HairColor"
   ]
  },
  {
   "cell_type": "markdown",
   "metadata": {},
   "source": [
    "Traits become especially useful as generic types and with abstract methods."
   ]
  },
  {
   "cell_type": "code",
   "execution_count": 2,
   "metadata": {
    "attributes": {
     "classes": [
      "tut"
     ],
     "id": ""
    }
   },
   "outputs": [
    {
     "data": {
      "text/plain": [
       "defined \u001b[32mtrait\u001b[39m \u001b[36mIterator\u001b[39m"
      ]
     },
     "execution_count": 2,
     "metadata": {},
     "output_type": "execute_result"
    }
   ],
   "source": [
    "trait Iterator[A] {\n",
    "  def hasNext: Boolean\n",
    "  def next(): A\n",
    "}"
   ]
  },
  {
   "cell_type": "markdown",
   "metadata": {},
   "source": [
    "Extending the `trait Iterator[A]` requires a type `A` and implementations of the methods `hasNext` and `next`.\n",
    "\n",
    "## Using traits\n",
    "Use the `extends` keyword to extend a trait. Then implement any abstract members of the trait using the `override` keyword:"
   ]
  },
  {
   "cell_type": "code",
   "execution_count": 3,
   "metadata": {
    "attributes": {
     "classes": [
      "tut"
     ],
     "id": ""
    }
   },
   "outputs": [],
   "source": [
    "trait Iterator[A] {\n",
    "  def hasNext: Boolean\n",
    "  def next(): A\n",
    "}\n",
    "\n",
    "class IntIterator(to: Int) extends Iterator[Int] {\n",
    "  private var current = 0\n",
    "  override def hasNext: Boolean = current < to\n",
    "  override def next(): Int =  {\n",
    "    if (hasNext) {\n",
    "      val t = current\n",
    "      current += 1\n",
    "      t\n",
    "    } else 0\n",
    "  }\n",
    "}\n",
    "\n",
    "\n",
    "val iterator = new IntIterator(10)\n",
    "iterator.next()  // returns 0\n",
    "iterator.next()  // returns 1"
   ]
  },
  {
   "cell_type": "code",
   "execution_count": 2,
   "metadata": {
    "attributes": {
     "classes": [
      "tut"
     ],
     "id": ""
    }
   },
   "outputs": [
    {
     "data": {
      "text/plain": [
       "defined \u001b[32mtrait\u001b[39m \u001b[36mIterator\u001b[39m"
      ]
     },
     "execution_count": 2,
     "metadata": {},
     "output_type": "execute_result"
    }
   ],
   "source": [
    "trait Iterator[A] {\n",
    "    def hasNext: Boolean\n",
    "    def next(): A\n",
    "}"
   ]
  },
  {
   "cell_type": "code",
   "execution_count": 3,
   "metadata": {
    "attributes": {
     "classes": [
      "tut"
     ],
     "id": ""
    }
   },
   "outputs": [
    {
     "data": {
      "text/plain": [
       "defined \u001b[32mclass\u001b[39m \u001b[36mIntIterator\u001b[39m"
      ]
     },
     "execution_count": 3,
     "metadata": {},
     "output_type": "execute_result"
    }
   ],
   "source": [
    "class IntIterator(to: Int) extends Iterator[Int] {\n",
    "  private var current = 0\n",
    "  override def hasNext: Boolean = current < to\n",
    "  override def next: Int = {\n",
    "    if (hasNext) {\n",
    "      var t = current\n",
    "      current += 1\n",
    "      t} else 0\n",
    "  }\n",
    "}"
   ]
  },
  {
   "cell_type": "code",
   "execution_count": 4,
   "metadata": {
    "attributes": {
     "classes": [
      "tut"
     ],
     "id": ""
    }
   },
   "outputs": [
    {
     "data": {
      "text/plain": [
       "\u001b[36miterator\u001b[39m: \u001b[32mIntIterator\u001b[39m = ammonite.$sess.cmd2$Helper$IntIterator@72d137fd"
      ]
     },
     "execution_count": 4,
     "metadata": {},
     "output_type": "execute_result"
    }
   ],
   "source": [
    "val iterator = new IntIterator(15)"
   ]
  },
  {
   "cell_type": "code",
   "execution_count": 22,
   "metadata": {
    "attributes": {
     "classes": [
      "tut"
     ],
     "id": ""
    }
   },
   "outputs": [
    {
     "data": {
      "text/plain": [
       "\u001b[36mres21\u001b[39m: \u001b[32mInt\u001b[39m = \u001b[32m12\u001b[39m"
      ]
     },
     "execution_count": 22,
     "metadata": {},
     "output_type": "execute_result"
    }
   ],
   "source": [
    "\n",
    "iterator.next"
   ]
  },
  {
   "cell_type": "code",
   "execution_count": 21,
   "metadata": {
    "attributes": {
     "classes": [
      "tut"
     ],
     "id": ""
    }
   },
   "outputs": [
    {
     "data": {
      "text/plain": [
       "\u001b[36mres20\u001b[39m: \u001b[32mIntIterator\u001b[39m = ammonite.$sess.cmd2$Helper$IntIterator@72d137fd"
      ]
     },
     "execution_count": 21,
     "metadata": {},
     "output_type": "execute_result"
    }
   ],
   "source": [
    "iterator"
   ]
  },
  {
   "cell_type": "markdown",
   "metadata": {},
   "source": [
    "This `IntIterator` class takes a parameter `to` as an upper bound. It `extends Iterator[Int]` which means that the `next` method must return an Int.\n",
    "\n",
    "## Subtyping\n",
    "Where a given trait is required, a subtype of the trait can be used instead."
   ]
  },
  {
   "cell_type": "code",
   "execution_count": 4,
   "metadata": {
    "attributes": {
     "classes": [
      "tut"
     ],
     "id": ""
    }
   },
   "outputs": [],
   "source": [
    "import scala.collection.mutable.ArrayBuffer\n",
    "\n",
    "trait Pet {\n",
    "  val name: String\n",
    "}\n",
    "\n",
    "class Cat(val name: String) extends Pet\n",
    "class Dog(val name: String) extends Pet\n",
    "\n",
    "val dog = new Dog(\"Harry\")\n",
    "val cat = new Cat(\"Sally\")\n",
    "\n",
    "val animals = ArrayBuffer.empty[Pet]\n",
    "animals.append(dog)\n",
    "animals.append(cat)\n",
    "animals.foreach(pet => println(pet.name))  // Prints Harry Sally"
   ]
  },
  {
   "cell_type": "code",
   "execution_count": 23,
   "metadata": {
    "attributes": {
     "classes": [
      "tut"
     ],
     "id": ""
    }
   },
   "outputs": [
    {
     "data": {
      "text/plain": [
       "\u001b[32mimport \u001b[39m\u001b[36mscala.collection.mutable.ArrayBuffer\u001b[39m"
      ]
     },
     "execution_count": 23,
     "metadata": {},
     "output_type": "execute_result"
    }
   ],
   "source": [
    "import scala.collection.mutable.ArrayBuffer"
   ]
  },
  {
   "cell_type": "code",
   "execution_count": 24,
   "metadata": {
    "attributes": {
     "classes": [
      "tut"
     ],
     "id": ""
    }
   },
   "outputs": [
    {
     "data": {
      "text/plain": [
       "defined \u001b[32mtrait\u001b[39m \u001b[36mPet\u001b[39m"
      ]
     },
     "execution_count": 24,
     "metadata": {},
     "output_type": "execute_result"
    }
   ],
   "source": [
    "trait Pet {\n",
    "    val name: String\n",
    "}"
   ]
  },
  {
   "cell_type": "code",
   "execution_count": 25,
   "metadata": {
    "attributes": {
     "classes": [
      "tut"
     ],
     "id": ""
    }
   },
   "outputs": [
    {
     "data": {
      "text/plain": [
       "defined \u001b[32mclass\u001b[39m \u001b[36mCat\u001b[39m\n",
       "defined \u001b[32mclass\u001b[39m \u001b[36mDog\u001b[39m\n",
       "\u001b[36mdog\u001b[39m: \u001b[32mDog\u001b[39m = ammonite.$sess.cmd24$Helper$Dog@52bf4080\n",
       "\u001b[36mcat\u001b[39m: \u001b[32mCat\u001b[39m = ammonite.$sess.cmd24$Helper$Cat@32e28894"
      ]
     },
     "execution_count": 25,
     "metadata": {},
     "output_type": "execute_result"
    }
   ],
   "source": [
    "class Cat(val name: String) extends Pet\n",
    "class Dog(val name: String) extends Pet\n",
    "val dog = new Dog(name=\"Harry\")\n",
    "val cat = new Cat(name=\"Sally\")"
   ]
  },
  {
   "cell_type": "code",
   "execution_count": 28,
   "metadata": {
    "attributes": {
     "classes": [
      "tut"
     ],
     "id": ""
    }
   },
   "outputs": [
    {
     "data": {
      "text/plain": [
       "\u001b[36manimals\u001b[39m: \u001b[32mArrayBuffer\u001b[39m[\u001b[32mPet\u001b[39m] = \u001b[33mArrayBuffer\u001b[39m()"
      ]
     },
     "execution_count": 28,
     "metadata": {},
     "output_type": "execute_result"
    }
   ],
   "source": [
    "val animals = ArrayBuffer.empty[Pet]"
   ]
  },
  {
   "cell_type": "code",
   "execution_count": 35,
   "metadata": {
    "attributes": {
     "classes": [
      "tut"
     ],
     "id": ""
    }
   },
   "outputs": [
    {
     "data": {
      "text/plain": [
       "\u001b[36mres34\u001b[39m: \u001b[32mArrayBuffer\u001b[39m[\u001b[32mPet\u001b[39m] = \u001b[33mArrayBuffer\u001b[39m(\n",
       "  ammonite.$sess.cmd24$Helper$Cat@32e28894,\n",
       "  ammonite.$sess.cmd24$Helper$Dog@52bf4080\n",
       ")"
      ]
     },
     "execution_count": 35,
     "metadata": {},
     "output_type": "execute_result"
    }
   ],
   "source": [
    "animals.append(dog)"
   ]
  },
  {
   "cell_type": "code",
   "execution_count": 34,
   "metadata": {
    "attributes": {
     "classes": [
      "tut"
     ],
     "id": ""
    }
   },
   "outputs": [
    {
     "data": {
      "text/plain": [
       "\u001b[36mres33\u001b[39m: \u001b[32mArrayBuffer\u001b[39m[\u001b[32mPet\u001b[39m] = \u001b[33mArrayBuffer\u001b[39m(ammonite.$sess.cmd24$Helper$Cat@32e28894)"
      ]
     },
     "execution_count": 34,
     "metadata": {},
     "output_type": "execute_result"
    }
   ],
   "source": [
    "animals.append(cat)"
   ]
  },
  {
   "cell_type": "code",
   "execution_count": 36,
   "metadata": {
    "attributes": {
     "classes": [
      "tut"
     ],
     "id": ""
    }
   },
   "outputs": [
    {
     "name": "stdout",
     "output_type": "stream",
     "text": [
      "Sally\n",
      "Harry\n"
     ]
    }
   ],
   "source": [
    "animals.foreach(pet => println(pet.name))"
   ]
  },
  {
   "cell_type": "code",
   "execution_count": 32,
   "metadata": {
    "attributes": {
     "classes": [
      "tut"
     ],
     "id": ""
    }
   },
   "outputs": [],
   "source": [
    "animals.clear"
   ]
  },
  {
   "cell_type": "code",
   "execution_count": 30,
   "metadata": {
    "attributes": {
     "classes": [
      "tut"
     ],
     "id": ""
    }
   },
   "outputs": [
    {
     "data": {
      "text/plain": [
       "\u001b[36mres29\u001b[39m: \u001b[32mArrayBuffer\u001b[39m[\u001b[32mPet\u001b[39m] = \u001b[33mArrayBuffer\u001b[39m(\n",
       "  ammonite.$sess.cmd24$Helper$Dog@52bf4080,\n",
       "  ammonite.$sess.cmd24$Helper$Cat@32e28894\n",
       ")"
      ]
     },
     "execution_count": 30,
     "metadata": {},
     "output_type": "execute_result"
    }
   ],
   "source": []
  },
  {
   "cell_type": "markdown",
   "metadata": {},
   "source": [
    "The `trait Pet` has an abstract field `name` which gets implemented by Cat and Dog in their constructors. On the last line, we call `pet.name` which must be implemented in any subtype of the trait `Pet`.\n",
    "<p style=\"float: left;\"><a href=\"classes.ipynb\" target=\"_blank\">Previous</a></p>\n",
    "<p style=\"float: right;\"><a href=\"tuples.ipynb\" target=\"_blank\">Next</a></p>\n",
    "<p style=\"text-align:center;\">Tour of Scala</p>\n",
    "<div style=\"clear: both;\"></div>"
   ]
  }
 ],
 "metadata": {
  "kernelspec": {
   "display_name": "Scala",
   "language": "scala",
   "name": "scala"
  },
  "language_info": {
   "codemirror_mode": "text/x-scala",
   "file_extension": ".scala",
   "mimetype": "text/x-scala",
   "name": "scala",
   "nbconvert_exporter": "script",
   "version": "2.13.2"
  }
 },
 "nbformat": 4,
 "nbformat_minor": 4
}
