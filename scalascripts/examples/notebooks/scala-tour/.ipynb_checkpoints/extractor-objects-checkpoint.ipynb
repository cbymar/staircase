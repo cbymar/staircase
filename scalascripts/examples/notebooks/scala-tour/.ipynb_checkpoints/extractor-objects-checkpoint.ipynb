{
 "cells": [
  {
   "cell_type": "markdown",
   "metadata": {},
   "source": [
    "<p style=\"float: left;\"><a href=\"regular-expression-patterns.ipynb\" target=\"_blank\">Previous</a></p>\n",
    "<p style=\"float: right;\"><a href=\"for-comprehensions.ipynb\" target=\"_blank\">Next</a></p>\n",
    "<p style=\"text-align:center;\">Tour of Scala</p>\n",
    "<div style=\"clear: both;\"></div>\n",
    "\n",
    "# Extractor Objects\n",
    "\n",
    "An extractor object is an object with an `unapply` method. Whereas the `apply` method is like a constructor which takes arguments and creates an object, the `unapply` takes an object and tries to give back the arguments. This is most often used in pattern matching and partial functions."
   ]
  },
  {
   "cell_type": "code",
   "execution_count": null,
   "metadata": {
    "attributes": {
     "classes": [
      "tut"
     ],
     "id": ""
    }
   },
   "outputs": [],
   "source": [
    "import scala.util.Random\n",
    "\n",
    "object CustomerID {\n",
    "\n",
    "  def apply(name: String) = s\"$name--${Random.nextLong}\"\n",
    "\n",
    "  def unapply(customerID: String): Option[String] = {\n",
    "    val stringArray: Array[String] = customerID.split(\"--\")\n",
    "    if (stringArray.tail.nonEmpty) Some(stringArray.head) else None\n",
    "  }\n",
    "}\n",
    "\n",
    "val customer1ID = CustomerID(\"Sukyoung\")  // Sukyoung--23098234908\n",
    "customer1ID match {\n",
    "  case CustomerID(name) => println(name)  // prints Sukyoung\n",
    "  case _ => println(\"Could not extract a CustomerID\")\n",
    "}"
   ]
  },
  {
   "cell_type": "markdown",
   "metadata": {},
   "source": [
    "The `apply` method creates a `CustomerID` string from a `name`. The `unapply` does the inverse to get the `name` back. When we call `CustomerID(\"Sukyoung\")`, this is shorthand syntax for calling `CustomerID.apply(\"Sukyoung\")`. When we call `case CustomerID(name) => println(name)`, we're calling the unapply method.\n",
    "\n",
    "Since a value definition can use a pattern to introduce a new variable, an extractor can be used to initialize the variable, where the unapply method supplies the value."
   ]
  },
  {
   "cell_type": "code",
   "execution_count": null,
   "metadata": {
    "attributes": {
     "classes": [
      "tut"
     ],
     "id": ""
    }
   },
   "outputs": [],
   "source": [
    "val customer2ID = CustomerID(\"Nico\")\n",
    "val CustomerID(name) = customer2ID\n",
    "println(name)  // prints Nico"
   ]
  },
  {
   "cell_type": "markdown",
   "metadata": {},
   "source": [
    "This is equivalent to `val name = CustomerID.unapply(customer2ID).get`."
   ]
  },
  {
   "cell_type": "code",
   "execution_count": null,
   "metadata": {
    "attributes": {
     "classes": [
      "tut"
     ],
     "id": ""
    }
   },
   "outputs": [],
   "source": [
    "val CustomerID(name2) = \"--asdfasdfasdf\""
   ]
  },
  {
   "cell_type": "markdown",
   "metadata": {},
   "source": [
    "If there is no match, a `scala.MatchError` is thrown:"
   ]
  },
  {
   "cell_type": "code",
   "execution_count": null,
   "metadata": {
    "attributes": {
     "classes": [
      "tut"
     ],
     "id": ""
    }
   },
   "outputs": [],
   "source": [
    "val CustomerID(name3) = \"-asdfasdfasdf\""
   ]
  },
  {
   "cell_type": "markdown",
   "metadata": {},
   "source": [
    "The return type of an `unapply` should be chosen as follows:\n",
    "\n",
    "* If it is just a test, return a `Boolean`. For instance `case even()`.\n",
    "* If it returns a single sub-value of type T, return an `Option[T]`.\n",
    "* If you want to return several sub-values `T1,...,Tn`, group them in an optional tuple `Option[(T1,...,Tn)]`.\n",
    "\n",
    "Sometimes, the number of values to extract isn't fixed and we would like to return an arbitrary number of values, depending on the input. For this use case, you can define extractors with an `unapplySeq` method which returns an `Option[Seq[T]]`. Common examples of these patterns include deconstructing a `List` using `case List(x, y, z) =>` and decomposing a `String` using a regular expression `Regex`, such as `case r(name, remainingFields @ _*) =>`.\n",
    "<p style=\"float: left;\"><a href=\"regular-expression-patterns.ipynb\" target=\"_blank\">Previous</a></p>\n",
    "<p style=\"float: right;\"><a href=\"for-comprehensions.ipynb\" target=\"_blank\">Next</a></p>\n",
    "<p style=\"text-align:center;\">Tour of Scala</p>\n",
    "<div style=\"clear: both;\"></div>"
   ]
  }
 ],
 "metadata": {
  "kernelspec": {
   "display_name": "Scala",
   "language": "scala",
   "name": "scala"
  },
  "language_info": {
   "codemirror_mode": "text/x-scala",
   "file_extension": ".scala",
   "mimetype": "text/x-scala",
   "name": "scala",
   "nbconvert_exporter": "script",
   "version": "2.13.2"
  }
 },
 "nbformat": 4,
 "nbformat_minor": 4
}
